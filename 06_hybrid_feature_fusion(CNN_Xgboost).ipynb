{
 "cells": [
  {
   "cell_type": "code",
   "execution_count": 1,
   "id": "ab2340cf",
   "metadata": {},
   "outputs": [
    {
     "name": "stdout",
     "output_type": "stream",
     "text": [
      "cuda\n"
     ]
    },
    {
     "name": "stderr",
     "output_type": "stream",
     "text": [
      "f:\\PyTorch_GPU\\torch_gpu\\lib\\site-packages\\torchvision\\models\\_utils.py:208: UserWarning: The parameter 'pretrained' is deprecated since 0.13 and may be removed in the future, please use 'weights' instead.\n",
      "  warnings.warn(\n",
      "f:\\PyTorch_GPU\\torch_gpu\\lib\\site-packages\\torchvision\\models\\_utils.py:223: UserWarning: Arguments other than a weight enum or `None` for 'weights' are deprecated since 0.13 and may be removed in the future. The current behavior is equivalent to passing `weights=ResNet18_Weights.IMAGENET1K_V1`. You can also use `weights=ResNet18_Weights.DEFAULT` to get the most up-to-date weights.\n",
      "  warnings.warn(msg)\n",
      "2025/08/07 20:10:33 INFO mlflow.tracking.fluent: Experiment with name 'Lettuce_Classification' does not exist. Creating a new experiment.\n",
      "2025/08/07 20:10:34 WARNING mlflow.models.model: `artifact_path` is deprecated. Please use `name` instead.\n",
      "2025/08/07 20:10:41 WARNING mlflow.models.model: Model logged without a signature and input example. Please set `input_example` parameter when logging the model to auto infer the model signature.\n"
     ]
    },
    {
     "name": "stdout",
     "output_type": "stream",
     "text": [
      "🏃 View run redolent-asp-637 at: http://127.0.0.1:5000/#/experiments/570064072894460474/runs/d18ab7feccde495fbb442c36310ab16b\n",
      "🧪 View experiment at: http://127.0.0.1:5000/#/experiments/570064072894460474\n",
      "Training complete. Accuracy: 0.9530, F1-score: 0.9421\n"
     ]
    }
   ],
   "source": [
    "import os\n",
    "import pandas as pd\n",
    "import numpy as np\n",
    "import torch\n",
    "from torchvision import models, transforms\n",
    "from PIL import Image\n",
    "from tqdm import tqdm\n",
    "from sklearn.ensemble import RandomForestClassifier\n",
    "from sklearn.model_selection import train_test_split\n",
    "from sklearn.metrics import (\n",
    "    classification_report,\n",
    "    confusion_matrix,\n",
    "    accuracy_score,\n",
    "    f1_score,\n",
    ")\n",
    "import matplotlib.pyplot as plt\n",
    "import seaborn as sns\n",
    "import mlflow\n",
    "import mlflow.sklearn\n",
    "\n",
    "# -------------------------- CONFIG -----------------------------\n",
    "DEVICE = torch.device(\"cuda\" if torch.cuda.is_available() else \"cpu\")\n",
    "print(DEVICE)\n",
    "DATASET_DIR = \"F:/Lettuce_leaf_classification/Lettuce_disease_datasets\"\n",
    "EXTRACTED_FEATURE_CSV = \"F:\\Lettuce_leaf_classification\\Lettuce_leaf_classification\\data\\leaf_aug_features.xlsx\"\n",
    "IMG_SIZE = 224\n",
    "MLFLOW_TRACKING_URI = \"http://127.0.0.1:5000\"  # Your MLflow server URI\n",
    "\n",
    "# ---------------------- TRANSFORMS -----------------------------\n",
    "transform = transforms.Compose(\n",
    "    [\n",
    "        transforms.Resize((IMG_SIZE, IMG_SIZE)),\n",
    "        transforms.ToTensor(),\n",
    "        transforms.Normalize(mean=[0.485, 0.456, 0.406], std=[0.229, 0.224, 0.225]),\n",
    "    ]\n",
    ")\n",
    "\n",
    "# ---------------------- LOAD PRETRAINED CNN --------------------\n",
    "resnet = models.resnet18(pretrained=True)\n",
    "resnet = torch.nn.Sequential(*(list(resnet.children())[:-1]))  # remove final FC\n",
    "resnet.eval().to(DEVICE)\n",
    "\n",
    "\n",
    "# ---------------------- FEATURE EXTRACTION ---------------------\n",
    "def extract_features(dataset_dir, output_csv):\n",
    "    rows = []\n",
    "    for label in os.listdir(dataset_dir):\n",
    "        class_dir = os.path.join(dataset_dir, label)\n",
    "        if not os.path.isdir(class_dir):\n",
    "            continue\n",
    "        for fname in tqdm(os.listdir(class_dir), desc=f\"Processing {label}\"):\n",
    "            path = os.path.join(class_dir, fname)\n",
    "            try:\n",
    "                img = Image.open(path).convert(\"RGB\")\n",
    "                tensor = transform(img).unsqueeze(0).to(DEVICE)\n",
    "\n",
    "                with torch.no_grad():\n",
    "                    features = resnet(tensor).squeeze().cpu().numpy()\n",
    "\n",
    "                rows.append(\n",
    "                    {\n",
    "                        \"image_name\": fname,\n",
    "                        \"label\": label,\n",
    "                        **{f\"feat_{i}\": f for i, f in enumerate(features.flatten())},\n",
    "                    }\n",
    "                )\n",
    "            except Exception as e:\n",
    "                print(f\"Error processing {path}: {e}\")\n",
    "\n",
    "    df = pd.DataFrame(rows)\n",
    "    df.to_csv(output_csv, index=False)\n",
    "    print(f\"Saved extracted features to {output_csv}\")\n",
    "\n",
    "\n",
    "# ---------------------- TRAINING FUNCTION ----------------------\n",
    "def train_model(csv_path):\n",
    "    df = pd.read_csv(csv_path)\n",
    "    X = df.drop(columns=[\"image_name\", \"class\"])\n",
    "    y = df[\"class\"]\n",
    "\n",
    "    X_train, X_test, y_train, y_test = train_test_split(\n",
    "        X, y, test_size=0.2, random_state=42\n",
    "    )\n",
    "\n",
    "    clf = RandomForestClassifier(n_estimators=100, random_state=42)\n",
    "    clf.fit(X_train, y_train)\n",
    "\n",
    "    y_pred = clf.predict(X_test)\n",
    "\n",
    "    acc = accuracy_score(y_test, y_pred)\n",
    "    f1 = f1_score(y_test, y_pred, average=\"weighted\")\n",
    "    cm = confusion_matrix(y_test, y_pred)\n",
    "\n",
    "    return clf, acc, f1, cm, y_test, y_pred\n",
    "\n",
    "\n",
    "# ------------------ PLOT CONFUSION MATRIX ----------------------\n",
    "def plot_confusion_matrix(cm, class_names, save_path=\"confusion_matrix.png\"):\n",
    "    plt.figure(figsize=(8, 6))\n",
    "    sns.heatmap(\n",
    "        cm, annot=True, fmt=\"d\", xticklabels=class_names, yticklabels=class_names\n",
    "    )\n",
    "    plt.ylabel(\"True Label\")\n",
    "    plt.xlabel(\"Predicted Label\")\n",
    "    plt.title(\"Confusion Matrix\")\n",
    "    plt.tight_layout()\n",
    "    plt.savefig(save_path)\n",
    "    plt.close()\n",
    "\n",
    "\n",
    "# ----------------------- MLFLOW LOGGER -------------------------\n",
    "def log_with_mlflow(\n",
    "    model, acc, f1, cm, y_true, y_pred, artifact_path=\"confusion_matrix.png\"\n",
    "):\n",
    "    mlflow.set_tracking_uri(MLFLOW_TRACKING_URI)\n",
    "    mlflow.set_experiment(\"Lettuce_Classification\")\n",
    "\n",
    "    with mlflow.start_run():\n",
    "        mlflow.log_metric(\"accuracy\", acc)\n",
    "        mlflow.log_metric(\"f1_score\", f1)\n",
    "\n",
    "        plot_confusion_matrix(\n",
    "            cm, class_names=sorted(set(y_true)), save_path=artifact_path\n",
    "        )\n",
    "        mlflow.log_artifact(artifact_path)\n",
    "\n",
    "        mlflow.sklearn.log_model(model, \"random_forest_model\")\n",
    "\n",
    "\n",
    "# --------------------------- MAIN ------------------------------\n",
    "if __name__ == \"__main__\":\n",
    "    if not os.path.exists(EXTRACTED_FEATURE_CSV):\n",
    "        extract_features(DATASET_DIR, EXTRACTED_FEATURE_CSV)\n",
    "\n",
    "    model, acc, f1, cm, y_true, y_pred = train_model(EXTRACTED_FEATURE_CSV)\n",
    "    log_with_mlflow(model, acc, f1, cm, y_true, y_pred)\n",
    "\n",
    "    print(f\"Training complete. Accuracy: {acc:.4f}, F1-score: {f1:.4f}\")"
   ]
  },
  {
   "cell_type": "code",
   "execution_count": 3,
   "id": "789650b5",
   "metadata": {},
   "outputs": [
    {
     "name": "stdout",
     "output_type": "stream",
     "text": [
      "cuda\n"
     ]
    }
   ],
   "source": [
    "device = torch.device(\"cuda\" if torch.cuda.is_available() else \"cpu\")\n",
    "print(device)"
   ]
  },
  {
   "cell_type": "code",
   "execution_count": 6,
   "id": "4f5c59f9",
   "metadata": {},
   "outputs": [
    {
     "name": "stdout",
     "output_type": "stream",
     "text": [
      "Collecting xgboost\n",
      "  Downloading xgboost-3.0.3-py3-none-win_amd64.whl (149.9 MB)\n",
      "     -------------------------------------- 149.9/149.9 MB 4.7 MB/s eta 0:00:00\n",
      "Requirement already satisfied: scipy in f:\\pytorch_gpu\\torch_gpu\\lib\\site-packages (from xgboost) (1.15.1)\n",
      "Requirement already satisfied: numpy in f:\\pytorch_gpu\\torch_gpu\\lib\\site-packages (from xgboost) (2.1.1)\n",
      "Installing collected packages: xgboost\n",
      "Successfully installed xgboost-3.0.3\n"
     ]
    },
    {
     "name": "stderr",
     "output_type": "stream",
     "text": [
      "\n",
      "[notice] A new release of pip available: 22.2.2 -> 25.2\n",
      "[notice] To update, run: python.exe -m pip install --upgrade pip\n"
     ]
    }
   ],
   "source": [
    "\n",
    "!pip install xgboost\n"
   ]
  },
  {
   "cell_type": "code",
   "execution_count": null,
   "id": "6dee8b42",
   "metadata": {},
   "outputs": [],
   "source": [
    "import os\n",
    "import torch\n",
    "import numpy as np\n",
    "import mlflow\n",
    "import mlflow.sklearn\n",
    "from torchvision import datasets, models, transforms\n",
    "from sklearn.ensemble import RandomForestClassifier\n",
    "from sklearn.svm import SVC\n",
    "from sklearn.metrics import (\n",
    "    classification_report,\n",
    "    confusion_matrix,\n",
    "    roc_auc_score,\n",
    "    roc_curve,\n",
    ")\n",
    "from sklearn.model_selection import train_test_split, GridSearchCV\n",
    "from xgboost import XGBClassifier\n",
    "import seaborn as sns\n",
    "import matplotlib.pyplot as plt\n",
    "from tqdm import tqdm\n",
    "import warnings\n",
    "\n",
    "warnings.filterwarnings(\"ignore\")"
   ]
  },
  {
   "cell_type": "code",
   "execution_count": null,
   "id": "be25225e",
   "metadata": {},
   "outputs": [
    {
     "name": "stdout",
     "output_type": "stream",
     "text": [
      "Classes: ['BACT', 'DML', 'HLTY', 'PML', 'SBL', 'SPW', 'VIRL', 'WLBL']\n"
     ]
    }
   ],
   "source": [
    "from torchvision import datasets, transforms\n",
    "import torch\n",
    "\n",
    "transform = transforms.Compose(\n",
    "    [\n",
    "        transforms.Resize((224, 224)),\n",
    "        transforms.ToTensor(),\n",
    "    ]\n",
    ")\n",
    "\n",
    "# Correct path (any of the formats below will work)\n",
    "data_dir = r\"F:\\Lettuce_leaf_classification\\DNN_dataloader\\train\"\n",
    "\n",
    "# Load the dataset\n",
    "dataset = datasets.ImageFolder(data_dir, transform=transform)\n",
    "dataloader = torch.utils.data.DataLoader(dataset, batch_size=32, shuffle=False)\n",
    "class_names = dataset.classes\n",
    "\n",
    "print(\"Classes:\", class_names)"
   ]
  },
  {
   "cell_type": "code",
   "execution_count": null,
   "id": "4c67240a",
   "metadata": {},
   "outputs": [],
   "source": [
    "def get_cnn_feature_extractor(model_name=\"vgg16\"):\n",
    "    if model_name == \"vgg16\":\n",
    "        model = models.vgg16(pretrained=True)\n",
    "        model.classifier = torch.nn.Identity()  # Remove FC layer\n",
    "        feature_dim = 25088\n",
    "    elif model_name == \"mobilenet\":\n",
    "        model = models.mobilenet_v2(pretrained=True)\n",
    "        model.classifier = torch.nn.Identity()\n",
    "        feature_dim = 1280\n",
    "    else:\n",
    "        raise ValueError(\"Only vgg16 or mobilenet supported.\")\n",
    "    model.eval()\n",
    "    return model, feature_dim"
   ]
  },
  {
   "cell_type": "code",
   "execution_count": null,
   "id": "c5e57db5",
   "metadata": {},
   "outputs": [],
   "source": [
    "def extract_deep_features(model, dataloader):\n",
    "    all_features = []\n",
    "    all_labels = []\n",
    "    with torch.no_grad():\n",
    "        for inputs, labels in tqdm(dataloader):\n",
    "            outputs = model(inputs)\n",
    "            features = outputs.view(outputs.size(0), -1)\n",
    "            all_features.append(features.numpy())\n",
    "            all_labels.append(labels.numpy())\n",
    "    return np.concatenate(all_features), np.concatenate(all_labels)"
   ]
  },
  {
   "cell_type": "code",
   "execution_count": null,
   "id": "acf2d451",
   "metadata": {},
   "outputs": [],
   "source": [
    "def train_ml_model(X, y, model_type=\"svc\"):\n",
    "    X_train, X_test, y_train, y_test = train_test_split(X, y, test_size=0.2, stratify=y)\n",
    "\n",
    "    if model_type == \"svc\":\n",
    "        param_grid = {\"C\": [0.1, 1, 10], \"kernel\": [\"linear\", \"rbf\"]}\n",
    "        model = GridSearchCV(\n",
    "            SVC(probability=True), param_grid, cv=3, scoring=\"accuracy\"\n",
    "        )\n",
    "    elif model_type == \"rf\":\n",
    "        param_grid = {\"n_estimators\": [50, 100], \"max_depth\": [None, 10, 20]}\n",
    "        model = GridSearchCV(\n",
    "            RandomForestClassifier(), param_grid, cv=3, scoring=\"accuracy\"\n",
    "        )\n",
    "    elif model_type == \"xgb\":\n",
    "        param_grid = {\n",
    "            \"n_estimators\": [100],\n",
    "            \"learning_rate\": [0.05, 0.1],\n",
    "            \"max_depth\": [3, 5],\n",
    "        }\n",
    "        model = GridSearchCV(\n",
    "            XGBClassifier(use_label_encoder=False, eval_metric=\"logloss\"),\n",
    "            param_grid,\n",
    "            cv=3,\n",
    "            scoring=\"accuracy\",\n",
    "        )\n",
    "    else:\n",
    "        raise ValueError(\"Unsupported model\")\n",
    "\n",
    "    model.fit(X_train, y_train)\n",
    "    return model, X_test, y_test"
   ]
  },
  {
   "cell_type": "code",
   "execution_count": null,
   "id": "9f48b33b",
   "metadata": {},
   "outputs": [],
   "source": [
    "def evaluate_and_log(model, X_test, y_test, model_name, cnn_backbone):\n",
    "    y_pred = model.predict(X_test)\n",
    "    y_prob = model.predict_proba(X_test)\n",
    "\n",
    "    report = classification_report(y_test, y_pred, output_dict=True)\n",
    "    conf_mat = confusion_matrix(y_test, y_pred)\n",
    "    auc = roc_auc_score(y_test, y_prob, multi_class=\"ovr\")\n",
    "\n",
    "    # MLflow Logging\n",
    "    with mlflow.start_run(run_name=f\"{model_name}_{cnn_backbone}\"):\n",
    "        mlflow.log_param(\"model\", model_name)\n",
    "        mlflow.log_param(\"cnn_backbone\", cnn_backbone)\n",
    "        mlflow.log_metric(\"accuracy\", report[\"accuracy\"])\n",
    "        mlflow.log_metric(\"roc_auc\", auc)\n",
    "        mlflow.log_params(model.best_params_)\n",
    "\n",
    "        # Confusion matrix\n",
    "        plt.figure(figsize=(8, 6))\n",
    "        sns.heatmap(conf_mat, annot=True, fmt=\"d\", cmap=\"Blues\")\n",
    "        plt.title(\"Confusion Matrix\")\n",
    "        plt.xlabel(\"Predicted\")\n",
    "        plt.ylabel(\"True\")\n",
    "        plt.savefig(\"conf_mat.png\")\n",
    "        mlflow.log_artifact(\"conf_mat.png\")\n",
    "\n",
    "        # ROC Curve (for binary or OvR)\n",
    "        if y_prob.shape[1] == 2:\n",
    "            fpr, tpr, _ = roc_curve(y_test, y_prob[:, 1])\n",
    "            plt.figure()\n",
    "            plt.plot(fpr, tpr, label=f\"AUC = {auc:.2f}\")\n",
    "            plt.xlabel(\"FPR\")\n",
    "            plt.ylabel(\"TPR\")\n",
    "            plt.title(\"ROC Curve\")\n",
    "            plt.legend()\n",
    "            plt.savefig(\"roc_curve.png\")\n",
    "            mlflow.log_artifact(\"roc_curve.png\")\n",
    "\n",
    "        mlflow.sklearn.log_model(model, \"sk_model\")"
   ]
  },
  {
   "cell_type": "code",
   "execution_count": null,
   "id": "48002e82",
   "metadata": {},
   "outputs": [
    {
     "name": "stderr",
     "output_type": "stream",
     "text": [
      "Downloading: \"https://download.pytorch.org/models/vgg16-397923af.pth\" to C:\\Users\\amans/.cache\\torch\\hub\\checkpoints\\vgg16-397923af.pth\n",
      "100%|██████████| 528M/528M [01:41<00:00, 5.48MB/s] \n",
      "100%|██████████| 219/219 [13:15<00:00,  3.63s/it]\n",
      "2025/08/07 22:56:04 WARNING mlflow.models.model: `artifact_path` is deprecated. Please use `name` instead.\n",
      "2025/08/07 22:56:09 WARNING mlflow.models.model: Model logged without a signature and input example. Please set `input_example` parameter when logging the model to auto infer the model signature.\n"
     ]
    },
    {
     "name": "stdout",
     "output_type": "stream",
     "text": [
      "🏃 View run xgb_vgg16 at: http://127.0.0.1:5000/#/experiments/570064072894460474/runs/fcf2a22d972340118a249ae5d537ec35\n",
      "🧪 View experiment at: http://127.0.0.1:5000/#/experiments/570064072894460474\n"
     ]
    },
    {
     "data": {
      "image/png": "[encoded data removed]",
      "text/plain": [
       "<Figure size 800x600 with 2 Axes>"
      ]
     },
     "metadata": {},
     "output_type": "display_data"
    }
   ],
   "source": [
    "if __name__ == \"__main__\":\n",
    "    cnn_backbone = \"vgg16\"  # or 'mobilenet'\n",
    "    model_type = \"xgb\"  # svc, rf, xgb\n",
    "\n",
    "    cnn_model, _ = get_cnn_feature_extractor(cnn_backbone)\n",
    "    features, labels = extract_deep_features(cnn_model, dataloader)\n",
    "    model, X_test, y_test = train_ml_model(features, labels, model_type)\n",
    "    evaluate_and_log(model, X_test, y_test, model_type, cnn_backbone)"
   ]
  },
  {
   "cell_type": "code",
   "execution_count": null,
   "id": "7b11337e",
   "metadata": {},
   "outputs": [],
   "source": []
  },
  {
   "cell_type": "code",
   "execution_count": null,
   "id": "4a6fe5bd",
   "metadata": {},
   "outputs": [],
   "source": []
  }
 ],
 "metadata": {
  "kernelspec": {
   "display_name": "torch_gpu",
   "language": "python",
   "name": "python3"
  },
  "language_info": {
   "codemirror_mode": {
    "name": "ipython",
    "version": 3
   },
   "file_extension": ".py",
   "mimetype": "text/x-python",
   "name": "python",
   "nbconvert_exporter": "python",
   "pygments_lexer": "ipython3",
   "version": "3.10.0"
  }
 },
 "nbformat": 4,
 "nbformat_minor": 5
}
