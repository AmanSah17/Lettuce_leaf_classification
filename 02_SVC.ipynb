{
 "cells": [
  {
   "cell_type": "markdown",
   "id": "eeb27a1f",
   "metadata": {},
   "source": [
    "# Base Classifier Model"
   ]
  },
  {
   "cell_type": "markdown",
   "id": "913a7d17",
   "metadata": {},
   "source": [
    "## section 0 : Importing the feature extracted raw data "
   ]
  },
  {
   "cell_type": "code",
   "execution_count": 2,
   "id": "fa10f53c",
   "metadata": {},
   "outputs": [],
   "source": [
    "import pandas as pd\n",
    "\n",
    "df = pd.read_csv(\"data\\leaf_features.xlsx\")"
   ]
  },
  {
   "cell_type": "code",
   "execution_count": 3,
   "id": "7349d58d",
   "metadata": {},
   "outputs": [
    {
     "data": {
      "text/html": [
       "<div>\n",
       "<style scoped>\n",
       "    .dataframe tbody tr th:only-of-type {\n",
       "        vertical-align: middle;\n",
       "    }\n",
       "\n",
       "    .dataframe tbody tr th {\n",
       "        vertical-align: top;\n",
       "    }\n",
       "\n",
       "    .dataframe thead th {\n",
       "        text-align: right;\n",
       "    }\n",
       "</style>\n",
       "<table border=\"1\" class=\"dataframe\">\n",
       "  <thead>\n",
       "    <tr style=\"text-align: right;\">\n",
       "      <th></th>\n",
       "      <th>class</th>\n",
       "      <th>image_name</th>\n",
       "      <th>brightness</th>\n",
       "      <th>texture_0</th>\n",
       "      <th>texture_1</th>\n",
       "      <th>texture_2</th>\n",
       "      <th>texture_3</th>\n",
       "      <th>texture_4</th>\n",
       "      <th>texture_5</th>\n",
       "      <th>texture_6</th>\n",
       "      <th>...</th>\n",
       "      <th>hist_54</th>\n",
       "      <th>hist_55</th>\n",
       "      <th>hist_56</th>\n",
       "      <th>hist_57</th>\n",
       "      <th>hist_58</th>\n",
       "      <th>hist_59</th>\n",
       "      <th>hist_60</th>\n",
       "      <th>hist_61</th>\n",
       "      <th>hist_62</th>\n",
       "      <th>hist_63</th>\n",
       "    </tr>\n",
       "  </thead>\n",
       "  <tbody>\n",
       "    <tr>\n",
       "      <th>0</th>\n",
       "      <td>BACT</td>\n",
       "      <td>BACT_0</td>\n",
       "      <td>105.681213</td>\n",
       "      <td>0.000213</td>\n",
       "      <td>179.414974</td>\n",
       "      <td>0.961457</td>\n",
       "      <td>2327.073882</td>\n",
       "      <td>0.162140</td>\n",
       "      <td>211.321734</td>\n",
       "      <td>9128.880553</td>\n",
       "      <td>...</td>\n",
       "      <td>0.002378</td>\n",
       "      <td>0.002118</td>\n",
       "      <td>0.001198</td>\n",
       "      <td>0.001111</td>\n",
       "      <td>0.000486</td>\n",
       "      <td>0.000278</td>\n",
       "      <td>0.000069</td>\n",
       "      <td>0.000017</td>\n",
       "      <td>0.000000</td>\n",
       "      <td>0.0</td>\n",
       "    </tr>\n",
       "    <tr>\n",
       "      <th>1</th>\n",
       "      <td>BACT</td>\n",
       "      <td>BACT_1</td>\n",
       "      <td>121.675126</td>\n",
       "      <td>0.000291</td>\n",
       "      <td>248.781522</td>\n",
       "      <td>0.852087</td>\n",
       "      <td>841.118487</td>\n",
       "      <td>0.123878</td>\n",
       "      <td>243.199118</td>\n",
       "      <td>3115.692426</td>\n",
       "      <td>...</td>\n",
       "      <td>0.000260</td>\n",
       "      <td>0.000208</td>\n",
       "      <td>0.000295</td>\n",
       "      <td>0.000313</td>\n",
       "      <td>0.000226</td>\n",
       "      <td>0.000035</td>\n",
       "      <td>0.000052</td>\n",
       "      <td>0.000069</td>\n",
       "      <td>0.000035</td>\n",
       "      <td>0.0</td>\n",
       "    </tr>\n",
       "    <tr>\n",
       "      <th>2</th>\n",
       "      <td>BACT</td>\n",
       "      <td>BACT_10</td>\n",
       "      <td>121.750298</td>\n",
       "      <td>0.000424</td>\n",
       "      <td>599.545049</td>\n",
       "      <td>0.892747</td>\n",
       "      <td>2795.011877</td>\n",
       "      <td>0.130888</td>\n",
       "      <td>243.401063</td>\n",
       "      <td>10580.502458</td>\n",
       "      <td>...</td>\n",
       "      <td>0.008003</td>\n",
       "      <td>0.006944</td>\n",
       "      <td>0.006858</td>\n",
       "      <td>0.007014</td>\n",
       "      <td>0.007865</td>\n",
       "      <td>0.007292</td>\n",
       "      <td>0.005226</td>\n",
       "      <td>0.001128</td>\n",
       "      <td>0.000035</td>\n",
       "      <td>0.0</td>\n",
       "    </tr>\n",
       "    <tr>\n",
       "      <th>3</th>\n",
       "      <td>BACT</td>\n",
       "      <td>BACT_11</td>\n",
       "      <td>118.741499</td>\n",
       "      <td>0.000262</td>\n",
       "      <td>250.616348</td>\n",
       "      <td>0.954806</td>\n",
       "      <td>2772.998259</td>\n",
       "      <td>0.160693</td>\n",
       "      <td>237.585471</td>\n",
       "      <td>10841.376687</td>\n",
       "      <td>...</td>\n",
       "      <td>0.003212</td>\n",
       "      <td>0.002795</td>\n",
       "      <td>0.001458</td>\n",
       "      <td>0.001233</td>\n",
       "      <td>0.000382</td>\n",
       "      <td>0.000000</td>\n",
       "      <td>0.000000</td>\n",
       "      <td>0.000000</td>\n",
       "      <td>0.000000</td>\n",
       "      <td>0.0</td>\n",
       "    </tr>\n",
       "    <tr>\n",
       "      <th>4</th>\n",
       "      <td>BACT</td>\n",
       "      <td>BACT_12</td>\n",
       "      <td>109.830653</td>\n",
       "      <td>0.000250</td>\n",
       "      <td>219.855194</td>\n",
       "      <td>0.958645</td>\n",
       "      <td>2659.035096</td>\n",
       "      <td>0.149557</td>\n",
       "      <td>219.799164</td>\n",
       "      <td>10416.285189</td>\n",
       "      <td>...</td>\n",
       "      <td>0.000451</td>\n",
       "      <td>0.000122</td>\n",
       "      <td>0.000017</td>\n",
       "      <td>0.000017</td>\n",
       "      <td>0.000017</td>\n",
       "      <td>0.000000</td>\n",
       "      <td>0.000000</td>\n",
       "      <td>0.000000</td>\n",
       "      <td>0.000000</td>\n",
       "      <td>0.0</td>\n",
       "    </tr>\n",
       "  </tbody>\n",
       "</table>\n",
       "<p>5 rows × 80 columns</p>\n",
       "</div>"
      ],
      "text/plain": [
       "  class image_name  brightness  texture_0   texture_1  texture_2    texture_3  \\\n",
       "0  BACT     BACT_0  105.681213   0.000213  179.414974   0.961457  2327.073882   \n",
       "1  BACT     BACT_1  121.675126   0.000291  248.781522   0.852087   841.118487   \n",
       "2  BACT    BACT_10  121.750298   0.000424  599.545049   0.892747  2795.011877   \n",
       "3  BACT    BACT_11  118.741499   0.000262  250.616348   0.954806  2772.998259   \n",
       "4  BACT    BACT_12  109.830653   0.000250  219.855194   0.958645  2659.035096   \n",
       "\n",
       "   texture_4   texture_5     texture_6  ...   hist_54   hist_55   hist_56  \\\n",
       "0   0.162140  211.321734   9128.880553  ...  0.002378  0.002118  0.001198   \n",
       "1   0.123878  243.199118   3115.692426  ...  0.000260  0.000208  0.000295   \n",
       "2   0.130888  243.401063  10580.502458  ...  0.008003  0.006944  0.006858   \n",
       "3   0.160693  237.585471  10841.376687  ...  0.003212  0.002795  0.001458   \n",
       "4   0.149557  219.799164  10416.285189  ...  0.000451  0.000122  0.000017   \n",
       "\n",
       "    hist_57   hist_58   hist_59   hist_60   hist_61   hist_62  hist_63  \n",
       "0  0.001111  0.000486  0.000278  0.000069  0.000017  0.000000      0.0  \n",
       "1  0.000313  0.000226  0.000035  0.000052  0.000069  0.000035      0.0  \n",
       "2  0.007014  0.007865  0.007292  0.005226  0.001128  0.000035      0.0  \n",
       "3  0.001233  0.000382  0.000000  0.000000  0.000000  0.000000      0.0  \n",
       "4  0.000017  0.000017  0.000000  0.000000  0.000000  0.000000      0.0  \n",
       "\n",
       "[5 rows x 80 columns]"
      ]
     },
     "execution_count": 3,
     "metadata": {},
     "output_type": "execute_result"
    }
   ],
   "source": [
    "df.head()"
   ]
  },
  {
   "cell_type": "code",
   "execution_count": 4,
   "id": "4cd5578f",
   "metadata": {},
   "outputs": [
    {
     "data": {
      "text/plain": [
       "Index(['class', 'image_name', 'brightness', 'texture_0', 'texture_1',\n",
       "       'texture_2', 'texture_3', 'texture_4', 'texture_5', 'texture_6',\n",
       "       'texture_7', 'texture_8', 'texture_9', 'texture_10', 'texture_11',\n",
       "       'texture_12', 'hist_0', 'hist_1', 'hist_2', 'hist_3', 'hist_4',\n",
       "       'hist_5', 'hist_6', 'hist_7', 'hist_8', 'hist_9', 'hist_10', 'hist_11',\n",
       "       'hist_12', 'hist_13', 'hist_14', 'hist_15', 'hist_16', 'hist_17',\n",
       "       'hist_18', 'hist_19', 'hist_20', 'hist_21', 'hist_22', 'hist_23',\n",
       "       'hist_24', 'hist_25', 'hist_26', 'hist_27', 'hist_28', 'hist_29',\n",
       "       'hist_30', 'hist_31', 'hist_32', 'hist_33', 'hist_34', 'hist_35',\n",
       "       'hist_36', 'hist_37', 'hist_38', 'hist_39', 'hist_40', 'hist_41',\n",
       "       'hist_42', 'hist_43', 'hist_44', 'hist_45', 'hist_46', 'hist_47',\n",
       "       'hist_48', 'hist_49', 'hist_50', 'hist_51', 'hist_52', 'hist_53',\n",
       "       'hist_54', 'hist_55', 'hist_56', 'hist_57', 'hist_58', 'hist_59',\n",
       "       'hist_60', 'hist_61', 'hist_62', 'hist_63'],\n",
       "      dtype='object')"
      ]
     },
     "execution_count": 4,
     "metadata": {},
     "output_type": "execute_result"
    }
   ],
   "source": [
    "df.columns"
   ]
  },
  {
   "cell_type": "markdown",
   "id": "ff67b6b0",
   "metadata": {},
   "source": [
    "## Feature Scaling / Normalization\n",
    "        ----- To ensure that models are not biased by features with large scales:"
   ]
  },
  {
   "cell_type": "code",
   "execution_count": 6,
   "id": "ecfb480f",
   "metadata": {},
   "outputs": [],
   "source": [
    "from sklearn.preprocessing import StandardScaler\n",
    "\n",
    "# Drop target columns and scale only features\n",
    "X = df.drop([\"class\", \"image_name\"], axis=1)\n",
    "y = df[\"class\"]\n",
    "\n",
    "scaler = StandardScaler()\n",
    "X_scaled = scaler.fit_transform(X)"
   ]
  },
  {
   "cell_type": "markdown",
   "id": "2202eee7",
   "metadata": {},
   "source": []
  },
  {
   "cell_type": "code",
   "execution_count": 7,
   "id": "84aa97bd",
   "metadata": {},
   "outputs": [],
   "source": [
    "from sklearn.model_selection import train_test_split\n",
    "\n",
    "# First, train-test split (70% train, 30% temp)\n",
    "X_train, X_temp, y_train, y_temp = train_test_split(\n",
    "    X_scaled, y, test_size=0.3, stratify=y, random_state=42\n",
    ")\n",
    "\n",
    "# Then, split temp into validation (20%) and test (10%)\n",
    "X_val, X_test, y_val, y_test = train_test_split(\n",
    "    X_temp, y_temp, test_size=1 / 3, stratify=y_temp, random_state=42\n",
    ")"
   ]
  },
  {
   "cell_type": "code",
   "execution_count": 8,
   "id": "86e6a8b6",
   "metadata": {},
   "outputs": [
    {
     "name": "stdout",
     "output_type": "stream",
     "text": [
      "Number of Images/datapoints/rows used  in training set : (1635, 78)\n",
      "Number of Images/datapoints/rows used  in val set : (467, 78)\n",
      "Number of Images/datapoints/rows used  in test set : (234, 78)\n"
     ]
    }
   ],
   "source": [
    "print(f\"Number of Images/datapoints/rows used  in training set : {X_train.shape}\"),\n",
    "print(f\"Number of Images/datapoints/rows used  in val set : {X_val.shape}\"),\n",
    "print(f\"Number of Images/datapoints/rows used  in test set : {X_test.shape}\")"
   ]
  },
  {
   "cell_type": "markdown",
   "id": "7a2474bb",
   "metadata": {},
   "source": []
  },
  {
   "cell_type": "code",
   "execution_count": null,
   "id": "b851874b",
   "metadata": {},
   "outputs": [],
   "source": []
  },
  {
   "cell_type": "code",
   "execution_count": null,
   "id": "e4aa4f3a",
   "metadata": {},
   "outputs": [],
   "source": []
  },
  {
   "cell_type": "code",
   "execution_count": null,
   "id": "5b02de8e",
   "metadata": {},
   "outputs": [],
   "source": []
  }
 ],
 "metadata": {
  "kernelspec": {
   "display_name": "Python 3",
   "language": "python",
   "name": "python3"
  },
  "language_info": {
   "codemirror_mode": {
    "name": "ipython",
    "version": 3
   },
   "file_extension": ".py",
   "mimetype": "text/x-python",
   "name": "python",
   "nbconvert_exporter": "python",
   "pygments_lexer": "ipython3",
   "version": "3.10.0"
  }
 },
 "nbformat": 4,
 "nbformat_minor": 5
}
